{
 "cells": [
  {
   "cell_type": "markdown",
   "id": "e7db3aff",
   "metadata": {
    "heading_collapsed": true
   },
   "source": [
    "# 패키지 불러오기\n",
    "패키지 및 한글 깨짐 현장 해결"
   ]
  },
  {
   "cell_type": "code",
   "execution_count": 1,
   "id": "6151364f",
   "metadata": {
    "ExecuteTime": {
     "end_time": "2022-10-31T06:18:46.609716Z",
     "start_time": "2022-10-31T06:18:45.900780Z"
    },
    "hidden": true
   },
   "outputs": [],
   "source": [
    "import re\n",
    "import pandas as pd\n",
    "import matplotlib.pyplot as plt"
   ]
  },
  {
   "cell_type": "code",
   "execution_count": 2,
   "id": "7bd43c4e",
   "metadata": {
    "ExecuteTime": {
     "end_time": "2022-10-31T06:18:46.624641Z",
     "start_time": "2022-10-31T06:18:46.610702Z"
    },
    "hidden": true
   },
   "outputs": [],
   "source": [
    "from matplotlib import font_manager, rc\n",
    "font_path = \"C:/Windows/Fonts/NGULIM.TTF\"\n",
    "font = font_manager.FontProperties(fname=font_path).get_name()\n",
    "rc('font', family=font)"
   ]
  },
  {
   "cell_type": "markdown",
   "id": "dc6e92c7",
   "metadata": {
    "heading_collapsed": true
   },
   "source": [
    "# 데이터 열기\n",
    "2022년 9월 지하철 승하차승객 인원 데이터"
   ]
  },
  {
   "cell_type": "code",
   "execution_count": 3,
   "id": "fb130198",
   "metadata": {
    "ExecuteTime": {
     "end_time": "2022-10-31T06:18:46.655071Z",
     "start_time": "2022-10-31T06:18:46.626550Z"
    },
    "hidden": true
   },
   "outputs": [
    {
     "data": {
      "text/html": [
       "<div>\n",
       "<style scoped>\n",
       "    .dataframe tbody tr th:only-of-type {\n",
       "        vertical-align: middle;\n",
       "    }\n",
       "\n",
       "    .dataframe tbody tr th {\n",
       "        vertical-align: top;\n",
       "    }\n",
       "\n",
       "    .dataframe thead th {\n",
       "        text-align: right;\n",
       "    }\n",
       "</style>\n",
       "<table border=\"1\" class=\"dataframe\">\n",
       "  <thead>\n",
       "    <tr style=\"text-align: right;\">\n",
       "      <th></th>\n",
       "      <th>사용일자</th>\n",
       "      <th>노선명</th>\n",
       "      <th>역명</th>\n",
       "      <th>승차총승객수</th>\n",
       "      <th>하차총승객수</th>\n",
       "      <th>등록일자</th>\n",
       "    </tr>\n",
       "  </thead>\n",
       "  <tbody>\n",
       "    <tr>\n",
       "      <th>0</th>\n",
       "      <td>20220901</td>\n",
       "      <td>2호선</td>\n",
       "      <td>신대방</td>\n",
       "      <td>26990</td>\n",
       "      <td>26203</td>\n",
       "      <td>20220904</td>\n",
       "    </tr>\n",
       "    <tr>\n",
       "      <th>1</th>\n",
       "      <td>20220901</td>\n",
       "      <td>2호선</td>\n",
       "      <td>신림</td>\n",
       "      <td>61313</td>\n",
       "      <td>58762</td>\n",
       "      <td>20220904</td>\n",
       "    </tr>\n",
       "    <tr>\n",
       "      <th>2</th>\n",
       "      <td>20220901</td>\n",
       "      <td>2호선</td>\n",
       "      <td>봉천</td>\n",
       "      <td>26070</td>\n",
       "      <td>23873</td>\n",
       "      <td>20220904</td>\n",
       "    </tr>\n",
       "    <tr>\n",
       "      <th>3</th>\n",
       "      <td>20220901</td>\n",
       "      <td>2호선</td>\n",
       "      <td>서울대입구(관악구청)</td>\n",
       "      <td>51225</td>\n",
       "      <td>50545</td>\n",
       "      <td>20220904</td>\n",
       "    </tr>\n",
       "    <tr>\n",
       "      <th>4</th>\n",
       "      <td>20220901</td>\n",
       "      <td>2호선</td>\n",
       "      <td>낙성대(강감찬)</td>\n",
       "      <td>30179</td>\n",
       "      <td>29402</td>\n",
       "      <td>20220904</td>\n",
       "    </tr>\n",
       "  </tbody>\n",
       "</table>\n",
       "</div>"
      ],
      "text/plain": [
       "       사용일자  노선명           역명  승차총승객수  하차총승객수      등록일자\n",
       "0  20220901  2호선          신대방   26990   26203  20220904\n",
       "1  20220901  2호선           신림   61313   58762  20220904\n",
       "2  20220901  2호선           봉천   26070   23873  20220904\n",
       "3  20220901  2호선  서울대입구(관악구청)   51225   50545  20220904\n",
       "4  20220901  2호선     낙성대(강감찬)   30179   29402  20220904"
      ]
     },
     "execution_count": 3,
     "metadata": {},
     "output_type": "execute_result"
    }
   ],
   "source": [
    "data = pd.read_csv(\"./subway_dataset.csv\", index_col = False)\n",
    "data.head()"
   ]
  },
  {
   "cell_type": "markdown",
   "id": "adc06852",
   "metadata": {},
   "source": [
    "# 데이터 전처리"
   ]
  },
  {
   "cell_type": "code",
   "execution_count": 4,
   "id": "b6ffbe5b",
   "metadata": {
    "ExecuteTime": {
     "end_time": "2022-10-31T06:18:46.670158Z",
     "start_time": "2022-10-31T06:18:46.657304Z"
    }
   },
   "outputs": [
    {
     "name": "stdout",
     "output_type": "stream",
     "text": [
      "<class 'pandas.core.frame.DataFrame'>\n",
      "RangeIndex: 18182 entries, 0 to 18181\n",
      "Data columns (total 6 columns):\n",
      " #   Column  Non-Null Count  Dtype \n",
      "---  ------  --------------  ----- \n",
      " 0   사용일자    18182 non-null  int64 \n",
      " 1   노선명     18182 non-null  object\n",
      " 2   역명      18182 non-null  object\n",
      " 3   승차총승객수  18182 non-null  int64 \n",
      " 4   하차총승객수  18182 non-null  int64 \n",
      " 5   등록일자    18182 non-null  int64 \n",
      "dtypes: int64(4), object(2)\n",
      "memory usage: 852.4+ KB\n"
     ]
    }
   ],
   "source": [
    "data.info()"
   ]
  },
  {
   "cell_type": "code",
   "execution_count": 5,
   "id": "6c8d9e2f",
   "metadata": {
    "ExecuteTime": {
     "end_time": "2022-10-31T06:18:46.685591Z",
     "start_time": "2022-10-31T06:18:46.671884Z"
    }
   },
   "outputs": [
    {
     "data": {
      "text/html": [
       "<div>\n",
       "<style scoped>\n",
       "    .dataframe tbody tr th:only-of-type {\n",
       "        vertical-align: middle;\n",
       "    }\n",
       "\n",
       "    .dataframe tbody tr th {\n",
       "        vertical-align: top;\n",
       "    }\n",
       "\n",
       "    .dataframe thead th {\n",
       "        text-align: right;\n",
       "    }\n",
       "</style>\n",
       "<table border=\"1\" class=\"dataframe\">\n",
       "  <thead>\n",
       "    <tr style=\"text-align: right;\">\n",
       "      <th></th>\n",
       "      <th>노선명</th>\n",
       "      <th>역명</th>\n",
       "      <th>승차총승객수</th>\n",
       "    </tr>\n",
       "  </thead>\n",
       "  <tbody>\n",
       "    <tr>\n",
       "      <th>0</th>\n",
       "      <td>2호선</td>\n",
       "      <td>신대방</td>\n",
       "      <td>26990</td>\n",
       "    </tr>\n",
       "    <tr>\n",
       "      <th>1</th>\n",
       "      <td>2호선</td>\n",
       "      <td>신림</td>\n",
       "      <td>61313</td>\n",
       "    </tr>\n",
       "    <tr>\n",
       "      <th>2</th>\n",
       "      <td>2호선</td>\n",
       "      <td>봉천</td>\n",
       "      <td>26070</td>\n",
       "    </tr>\n",
       "    <tr>\n",
       "      <th>3</th>\n",
       "      <td>2호선</td>\n",
       "      <td>서울대입구(관악구청)</td>\n",
       "      <td>51225</td>\n",
       "    </tr>\n",
       "    <tr>\n",
       "      <th>4</th>\n",
       "      <td>2호선</td>\n",
       "      <td>낙성대(강감찬)</td>\n",
       "      <td>30179</td>\n",
       "    </tr>\n",
       "  </tbody>\n",
       "</table>\n",
       "</div>"
      ],
      "text/plain": [
       "   노선명           역명  승차총승객수\n",
       "0  2호선          신대방   26990\n",
       "1  2호선           신림   61313\n",
       "2  2호선           봉천   26070\n",
       "3  2호선  서울대입구(관악구청)   51225\n",
       "4  2호선     낙성대(강감찬)   30179"
      ]
     },
     "execution_count": 5,
     "metadata": {},
     "output_type": "execute_result"
    }
   ],
   "source": [
    "data = data.drop(columns = ['등록일자'])\n",
    "data = data.drop(columns = ['사용일자'])\n",
    "data = data.drop(columns = ['하차총승객수'])\n",
    "data.head()"
   ]
  },
  {
   "cell_type": "code",
   "execution_count": 6,
   "id": "70b0f5ef",
   "metadata": {
    "ExecuteTime": {
     "end_time": "2022-10-31T06:18:46.701278Z",
     "start_time": "2022-10-31T06:18:46.688276Z"
    }
   },
   "outputs": [],
   "source": [
    "pattern = '\\([^)]*\\)'\n",
    "\n",
    "def preprocessing(x):\n",
    "    re_text = re.sub(pattern=pattern, repl='', string=x)\n",
    "    return re_text + \"역\""
   ]
  },
  {
   "cell_type": "code",
   "execution_count": 7,
   "id": "1324c64c",
   "metadata": {
    "ExecuteTime": {
     "end_time": "2022-10-31T06:18:46.731877Z",
     "start_time": "2022-10-31T06:18:46.702555Z"
    }
   },
   "outputs": [],
   "source": [
    "data['역명'] = data['역명'].apply(preprocessing)"
   ]
  },
  {
   "cell_type": "code",
   "execution_count": 8,
   "id": "dc4af6b4",
   "metadata": {
    "ExecuteTime": {
     "end_time": "2022-10-31T06:18:46.746795Z",
     "start_time": "2022-10-31T06:18:46.733082Z"
    }
   },
   "outputs": [
    {
     "data": {
      "text/html": [
       "<div>\n",
       "<style scoped>\n",
       "    .dataframe tbody tr th:only-of-type {\n",
       "        vertical-align: middle;\n",
       "    }\n",
       "\n",
       "    .dataframe tbody tr th {\n",
       "        vertical-align: top;\n",
       "    }\n",
       "\n",
       "    .dataframe thead th {\n",
       "        text-align: right;\n",
       "    }\n",
       "</style>\n",
       "<table border=\"1\" class=\"dataframe\">\n",
       "  <thead>\n",
       "    <tr style=\"text-align: right;\">\n",
       "      <th></th>\n",
       "      <th>역명</th>\n",
       "      <th>승차총승객수</th>\n",
       "    </tr>\n",
       "  </thead>\n",
       "  <tbody>\n",
       "    <tr>\n",
       "      <th>0</th>\n",
       "      <td>신대방역</td>\n",
       "      <td>26990</td>\n",
       "    </tr>\n",
       "    <tr>\n",
       "      <th>1</th>\n",
       "      <td>신림역</td>\n",
       "      <td>61313</td>\n",
       "    </tr>\n",
       "    <tr>\n",
       "      <th>2</th>\n",
       "      <td>봉천역</td>\n",
       "      <td>26070</td>\n",
       "    </tr>\n",
       "    <tr>\n",
       "      <th>3</th>\n",
       "      <td>서울대입구역</td>\n",
       "      <td>51225</td>\n",
       "    </tr>\n",
       "    <tr>\n",
       "      <th>4</th>\n",
       "      <td>낙성대역</td>\n",
       "      <td>30179</td>\n",
       "    </tr>\n",
       "  </tbody>\n",
       "</table>\n",
       "</div>"
      ],
      "text/plain": [
       "       역명  승차총승객수\n",
       "0    신대방역   26990\n",
       "1     신림역   61313\n",
       "2     봉천역   26070\n",
       "3  서울대입구역   51225\n",
       "4    낙성대역   30179"
      ]
     },
     "execution_count": 8,
     "metadata": {},
     "output_type": "execute_result"
    }
   ],
   "source": [
    "data_station = data.drop(columns = ['노선명'])\n",
    "data_station.head()"
   ]
  },
  {
   "cell_type": "code",
   "execution_count": 9,
   "id": "6d8953df",
   "metadata": {
    "ExecuteTime": {
     "end_time": "2022-10-31T06:18:46.761688Z",
     "start_time": "2022-10-31T06:18:46.748795Z"
    }
   },
   "outputs": [
    {
     "data": {
      "text/html": [
       "<div>\n",
       "<style scoped>\n",
       "    .dataframe tbody tr th:only-of-type {\n",
       "        vertical-align: middle;\n",
       "    }\n",
       "\n",
       "    .dataframe tbody tr th {\n",
       "        vertical-align: top;\n",
       "    }\n",
       "\n",
       "    .dataframe thead th {\n",
       "        text-align: right;\n",
       "    }\n",
       "</style>\n",
       "<table border=\"1\" class=\"dataframe\">\n",
       "  <thead>\n",
       "    <tr style=\"text-align: right;\">\n",
       "      <th></th>\n",
       "      <th>승차총승객수</th>\n",
       "    </tr>\n",
       "    <tr>\n",
       "      <th>역명</th>\n",
       "      <th></th>\n",
       "    </tr>\n",
       "  </thead>\n",
       "  <tbody>\n",
       "    <tr>\n",
       "      <th>강남역</th>\n",
       "      <td>70019.233333</td>\n",
       "    </tr>\n",
       "    <tr>\n",
       "      <th>구로디지털단지역</th>\n",
       "      <td>51359.933333</td>\n",
       "    </tr>\n",
       "    <tr>\n",
       "      <th>삼성역</th>\n",
       "      <td>46405.733333</td>\n",
       "    </tr>\n",
       "    <tr>\n",
       "      <th>서울대입구역</th>\n",
       "      <td>43764.500000</td>\n",
       "    </tr>\n",
       "    <tr>\n",
       "      <th>역삼역</th>\n",
       "      <td>42072.466667</td>\n",
       "    </tr>\n",
       "  </tbody>\n",
       "</table>\n",
       "</div>"
      ],
      "text/plain": [
       "                승차총승객수\n",
       "역명                    \n",
       "강남역       70019.233333\n",
       "구로디지털단지역  51359.933333\n",
       "삼성역       46405.733333\n",
       "서울대입구역    43764.500000\n",
       "역삼역       42072.466667"
      ]
     },
     "execution_count": 9,
     "metadata": {},
     "output_type": "execute_result"
    }
   ],
   "source": [
    "group_station = data_station.groupby('역명')\n",
    "mean_station = group_station.mean().sort_values('승차총승객수', ascending = False)\n",
    "mean_station.head()"
   ]
  },
  {
   "cell_type": "code",
   "execution_count": 10,
   "id": "3a3e9428",
   "metadata": {
    "ExecuteTime": {
     "end_time": "2022-10-31T06:18:46.777301Z",
     "start_time": "2022-10-31T06:18:46.762856Z"
    }
   },
   "outputs": [
    {
     "data": {
      "text/html": [
       "<div>\n",
       "<style scoped>\n",
       "    .dataframe tbody tr th:only-of-type {\n",
       "        vertical-align: middle;\n",
       "    }\n",
       "\n",
       "    .dataframe tbody tr th {\n",
       "        vertical-align: top;\n",
       "    }\n",
       "\n",
       "    .dataframe thead th {\n",
       "        text-align: right;\n",
       "    }\n",
       "</style>\n",
       "<table border=\"1\" class=\"dataframe\">\n",
       "  <thead>\n",
       "    <tr style=\"text-align: right;\">\n",
       "      <th></th>\n",
       "      <th>노선명</th>\n",
       "      <th>승차총승객수</th>\n",
       "    </tr>\n",
       "  </thead>\n",
       "  <tbody>\n",
       "    <tr>\n",
       "      <th>0</th>\n",
       "      <td>2호선</td>\n",
       "      <td>26990</td>\n",
       "    </tr>\n",
       "    <tr>\n",
       "      <th>1</th>\n",
       "      <td>2호선</td>\n",
       "      <td>61313</td>\n",
       "    </tr>\n",
       "    <tr>\n",
       "      <th>2</th>\n",
       "      <td>2호선</td>\n",
       "      <td>26070</td>\n",
       "    </tr>\n",
       "    <tr>\n",
       "      <th>3</th>\n",
       "      <td>2호선</td>\n",
       "      <td>51225</td>\n",
       "    </tr>\n",
       "    <tr>\n",
       "      <th>4</th>\n",
       "      <td>2호선</td>\n",
       "      <td>30179</td>\n",
       "    </tr>\n",
       "  </tbody>\n",
       "</table>\n",
       "</div>"
      ],
      "text/plain": [
       "   노선명  승차총승객수\n",
       "0  2호선   26990\n",
       "1  2호선   61313\n",
       "2  2호선   26070\n",
       "3  2호선   51225\n",
       "4  2호선   30179"
      ]
     },
     "execution_count": 10,
     "metadata": {},
     "output_type": "execute_result"
    }
   ],
   "source": [
    "data_num = data.drop(columns = ['역명'])\n",
    "data_num.head()"
   ]
  },
  {
   "cell_type": "code",
   "execution_count": 11,
   "id": "5e73a046",
   "metadata": {
    "ExecuteTime": {
     "end_time": "2022-10-31T06:18:46.792276Z",
     "start_time": "2022-10-31T06:18:46.778191Z"
    }
   },
   "outputs": [
    {
     "data": {
      "text/html": [
       "<div>\n",
       "<style scoped>\n",
       "    .dataframe tbody tr th:only-of-type {\n",
       "        vertical-align: middle;\n",
       "    }\n",
       "\n",
       "    .dataframe tbody tr th {\n",
       "        vertical-align: top;\n",
       "    }\n",
       "\n",
       "    .dataframe thead th {\n",
       "        text-align: right;\n",
       "    }\n",
       "</style>\n",
       "<table border=\"1\" class=\"dataframe\">\n",
       "  <thead>\n",
       "    <tr style=\"text-align: right;\">\n",
       "      <th></th>\n",
       "      <th>승차총승객수</th>\n",
       "    </tr>\n",
       "    <tr>\n",
       "      <th>노선명</th>\n",
       "      <th></th>\n",
       "    </tr>\n",
       "  </thead>\n",
       "  <tbody>\n",
       "    <tr>\n",
       "      <th>2호선</th>\n",
       "      <td>24868.192667</td>\n",
       "    </tr>\n",
       "    <tr>\n",
       "      <th>1호선</th>\n",
       "      <td>21346.383333</td>\n",
       "    </tr>\n",
       "    <tr>\n",
       "      <th>4호선</th>\n",
       "      <td>17338.423077</td>\n",
       "    </tr>\n",
       "    <tr>\n",
       "      <th>3호선</th>\n",
       "      <td>14108.429980</td>\n",
       "    </tr>\n",
       "    <tr>\n",
       "      <th>경인선</th>\n",
       "      <td>13232.396667</td>\n",
       "    </tr>\n",
       "  </tbody>\n",
       "</table>\n",
       "</div>"
      ],
      "text/plain": [
       "           승차총승객수\n",
       "노선명              \n",
       "2호선  24868.192667\n",
       "1호선  21346.383333\n",
       "4호선  17338.423077\n",
       "3호선  14108.429980\n",
       "경인선  13232.396667"
      ]
     },
     "execution_count": 11,
     "metadata": {},
     "output_type": "execute_result"
    }
   ],
   "source": [
    "group_num = data_num.groupby('노선명')\n",
    "mean_num = group_num.mean().sort_values('승차총승객수', ascending = False)\n",
    "mean_num.head()"
   ]
  },
  {
   "cell_type": "markdown",
   "id": "52669835",
   "metadata": {},
   "source": [
    "# 데이터 시각화"
   ]
  },
  {
   "cell_type": "code",
   "execution_count": 13,
   "id": "70fac022",
   "metadata": {
    "ExecuteTime": {
     "end_time": "2022-10-31T06:22:31.770445Z",
     "start_time": "2022-10-31T06:22:31.577390Z"
    }
   },
   "outputs": [
    {
     "data": {
      "image/png": "[encoded data removed]",
      "text/plain": [
       "<Figure size 1080x360 with 2 Axes>"
      ]
     },
     "metadata": {
      "needs_background": "light"
     },
     "output_type": "display_data"
    }
   ],
   "source": [
    "fig = plt.figure(figsize = (15, 5))\n",
    "\n",
    "ax1 = fig.add_subplot(121)\n",
    "ax1.plot(mean_station.iloc[:10])\n",
    "ax1.tick_params(axis = 'x', rotation = 45)\n",
    "ax1.set_title('2022년 9월 역별 이용자수 Top.10', fontsize = 16)\n",
    "\n",
    "ax2 = fig.add_subplot(122)\n",
    "ax2.plot(mean_num.iloc[:10])\n",
    "ax2.tick_params(axis = 'x', rotation = 45)\n",
    "ax2.set_title('2022년 9월 호선별 이용자수 Top.10', fontsize = 16)\n",
    "\n",
    "plt.show()"
   ]
  }
 ],
 "metadata": {
  "hide_input": false,
  "kernelspec": {
   "display_name": "Python 3 (ipykernel)",
   "language": "python",
   "name": "python3"
  },
  "language_info": {
   "codemirror_mode": {
    "name": "ipython",
    "version": 3
   },
   "file_extension": ".py",
   "mimetype": "text/x-python",
   "name": "python",
   "nbconvert_exporter": "python",
   "pygments_lexer": "ipython3",
   "version": "3.8.8"
  },
  "toc": {
   "base_numbering": 1,
   "nav_menu": {},
   "number_sections": true,
   "sideBar": true,
   "skip_h1_title": false,
   "title_cell": "Table of Contents",
   "title_sidebar": "Contents",
   "toc_cell": false,
   "toc_position": {},
   "toc_section_display": true,
   "toc_window_display": false
  },
  "varInspector": {
   "cols": {
    "lenName": 16,
    "lenType": 16,
    "lenVar": 40
   },
   "kernels_config": {
    "python": {
     "delete_cmd_postfix": "",
     "delete_cmd_prefix": "del ",
     "library": "var_list.py",
     "varRefreshCmd": "print(var_dic_list())"
    },
    "r": {
     "delete_cmd_postfix": ") ",
     "delete_cmd_prefix": "rm(",
     "library": "var_list.r",
     "varRefreshCmd": "cat(var_dic_list()) "
    }
   },
   "types_to_exclude": [
    "module",
    "function",
    "builtin_function_or_method",
    "instance",
    "_Feature"
   ],
   "window_display": false
  }
 },
 "nbformat": 4,
 "nbformat_minor": 5
}
