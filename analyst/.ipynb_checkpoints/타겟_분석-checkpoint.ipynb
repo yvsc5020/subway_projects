{
 "cells": [
  {
   "cell_type": "markdown",
   "id": "7c3b4756",
   "metadata": {},
   "source": [
    "# 패키지 불러오기\n",
    "패키지 및 한글 깨짐 현장 해결"
   ]
  },
  {
   "cell_type": "code",
   "execution_count": 12,
   "id": "c1b85589",
   "metadata": {
    "ExecuteTime": {
     "end_time": "2022-10-31T05:59:00.124484Z",
     "start_time": "2022-10-31T05:59:00.111208Z"
    }
   },
   "outputs": [],
   "source": [
    "import re\n",
    "import pandas as pd\n",
    "import matplotlib.pyplot as plt"
   ]
  },
  {
   "cell_type": "code",
   "execution_count": 13,
   "id": "d5898f93",
   "metadata": {
    "ExecuteTime": {
     "end_time": "2022-10-31T05:59:00.139479Z",
     "start_time": "2022-10-31T05:59:00.125466Z"
    }
   },
   "outputs": [],
   "source": [
    "from matplotlib import font_manager, rc\n",
    "font_path = \"C:/Windows/Fonts/NGULIM.TTF\"\n",
    "font = font_manager.FontProperties(fname=font_path).get_name()\n",
    "rc('font', family=font)"
   ]
  },
  {
   "cell_type": "markdown",
   "id": "8e0cf8e5",
   "metadata": {
    "heading_collapsed": true
   },
   "source": [
    "# 데이터 열기\n",
    "2022년 9월 지하철 승하차승객 인원 데이터"
   ]
  },
  {
   "cell_type": "code",
   "execution_count": 14,
   "id": "143e084a",
   "metadata": {
    "ExecuteTime": {
     "end_time": "2022-10-31T05:59:00.169465Z",
     "start_time": "2022-10-31T05:59:00.140467Z"
    },
    "hidden": true
   },
   "outputs": [
    {
     "data": {
      "text/html": [
       "<div>\n",
       "<style scoped>\n",
       "    .dataframe tbody tr th:only-of-type {\n",
       "        vertical-align: middle;\n",
       "    }\n",
       "\n",
       "    .dataframe tbody tr th {\n",
       "        vertical-align: top;\n",
       "    }\n",
       "\n",
       "    .dataframe thead th {\n",
       "        text-align: right;\n",
       "    }\n",
       "</style>\n",
       "<table border=\"1\" class=\"dataframe\">\n",
       "  <thead>\n",
       "    <tr style=\"text-align: right;\">\n",
       "      <th></th>\n",
       "      <th>사용일자</th>\n",
       "      <th>노선명</th>\n",
       "      <th>역명</th>\n",
       "      <th>승차총승객수</th>\n",
       "      <th>하차총승객수</th>\n",
       "      <th>등록일자</th>\n",
       "    </tr>\n",
       "  </thead>\n",
       "  <tbody>\n",
       "    <tr>\n",
       "      <th>0</th>\n",
       "      <td>20220901</td>\n",
       "      <td>2호선</td>\n",
       "      <td>신대방</td>\n",
       "      <td>26990</td>\n",
       "      <td>26203</td>\n",
       "      <td>20220904</td>\n",
       "    </tr>\n",
       "    <tr>\n",
       "      <th>1</th>\n",
       "      <td>20220901</td>\n",
       "      <td>2호선</td>\n",
       "      <td>신림</td>\n",
       "      <td>61313</td>\n",
       "      <td>58762</td>\n",
       "      <td>20220904</td>\n",
       "    </tr>\n",
       "    <tr>\n",
       "      <th>2</th>\n",
       "      <td>20220901</td>\n",
       "      <td>2호선</td>\n",
       "      <td>봉천</td>\n",
       "      <td>26070</td>\n",
       "      <td>23873</td>\n",
       "      <td>20220904</td>\n",
       "    </tr>\n",
       "    <tr>\n",
       "      <th>3</th>\n",
       "      <td>20220901</td>\n",
       "      <td>2호선</td>\n",
       "      <td>서울대입구(관악구청)</td>\n",
       "      <td>51225</td>\n",
       "      <td>50545</td>\n",
       "      <td>20220904</td>\n",
       "    </tr>\n",
       "    <tr>\n",
       "      <th>4</th>\n",
       "      <td>20220901</td>\n",
       "      <td>2호선</td>\n",
       "      <td>낙성대(강감찬)</td>\n",
       "      <td>30179</td>\n",
       "      <td>29402</td>\n",
       "      <td>20220904</td>\n",
       "    </tr>\n",
       "  </tbody>\n",
       "</table>\n",
       "</div>"
      ],
      "text/plain": [
       "       사용일자  노선명           역명  승차총승객수  하차총승객수      등록일자\n",
       "0  20220901  2호선          신대방   26990   26203  20220904\n",
       "1  20220901  2호선           신림   61313   58762  20220904\n",
       "2  20220901  2호선           봉천   26070   23873  20220904\n",
       "3  20220901  2호선  서울대입구(관악구청)   51225   50545  20220904\n",
       "4  20220901  2호선     낙성대(강감찬)   30179   29402  20220904"
      ]
     },
     "execution_count": 14,
     "metadata": {},
     "output_type": "execute_result"
    }
   ],
   "source": [
    "data = pd.read_csv(\"./subway_dataset.csv\", index_col = False)\n",
    "data.head()"
   ]
  },
  {
   "cell_type": "markdown",
   "id": "306cef64",
   "metadata": {},
   "source": [
    "# 데이터 전처리"
   ]
  },
  {
   "cell_type": "code",
   "execution_count": 15,
   "id": "952cad08",
   "metadata": {
    "ExecuteTime": {
     "end_time": "2022-10-31T05:59:00.184500Z",
     "start_time": "2022-10-31T05:59:00.170466Z"
    }
   },
   "outputs": [
    {
     "name": "stdout",
     "output_type": "stream",
     "text": [
      "<class 'pandas.core.frame.DataFrame'>\n",
      "RangeIndex: 18182 entries, 0 to 18181\n",
      "Data columns (total 6 columns):\n",
      " #   Column  Non-Null Count  Dtype \n",
      "---  ------  --------------  ----- \n",
      " 0   사용일자    18182 non-null  int64 \n",
      " 1   노선명     18182 non-null  object\n",
      " 2   역명      18182 non-null  object\n",
      " 3   승차총승객수  18182 non-null  int64 \n",
      " 4   하차총승객수  18182 non-null  int64 \n",
      " 5   등록일자    18182 non-null  int64 \n",
      "dtypes: int64(4), object(2)\n",
      "memory usage: 852.4+ KB\n"
     ]
    }
   ],
   "source": [
    "data.info()"
   ]
  },
  {
   "cell_type": "code",
   "execution_count": 16,
   "id": "70446553",
   "metadata": {
    "ExecuteTime": {
     "end_time": "2022-10-31T05:59:00.199811Z",
     "start_time": "2022-10-31T05:59:00.185470Z"
    }
   },
   "outputs": [
    {
     "data": {
      "text/html": [
       "<div>\n",
       "<style scoped>\n",
       "    .dataframe tbody tr th:only-of-type {\n",
       "        vertical-align: middle;\n",
       "    }\n",
       "\n",
       "    .dataframe tbody tr th {\n",
       "        vertical-align: top;\n",
       "    }\n",
       "\n",
       "    .dataframe thead th {\n",
       "        text-align: right;\n",
       "    }\n",
       "</style>\n",
       "<table border=\"1\" class=\"dataframe\">\n",
       "  <thead>\n",
       "    <tr style=\"text-align: right;\">\n",
       "      <th></th>\n",
       "      <th>노선명</th>\n",
       "      <th>역명</th>\n",
       "      <th>승차총승객수</th>\n",
       "    </tr>\n",
       "  </thead>\n",
       "  <tbody>\n",
       "    <tr>\n",
       "      <th>0</th>\n",
       "      <td>2호선</td>\n",
       "      <td>신대방</td>\n",
       "      <td>26990</td>\n",
       "    </tr>\n",
       "    <tr>\n",
       "      <th>1</th>\n",
       "      <td>2호선</td>\n",
       "      <td>신림</td>\n",
       "      <td>61313</td>\n",
       "    </tr>\n",
       "    <tr>\n",
       "      <th>2</th>\n",
       "      <td>2호선</td>\n",
       "      <td>봉천</td>\n",
       "      <td>26070</td>\n",
       "    </tr>\n",
       "    <tr>\n",
       "      <th>3</th>\n",
       "      <td>2호선</td>\n",
       "      <td>서울대입구(관악구청)</td>\n",
       "      <td>51225</td>\n",
       "    </tr>\n",
       "    <tr>\n",
       "      <th>4</th>\n",
       "      <td>2호선</td>\n",
       "      <td>낙성대(강감찬)</td>\n",
       "      <td>30179</td>\n",
       "    </tr>\n",
       "  </tbody>\n",
       "</table>\n",
       "</div>"
      ],
      "text/plain": [
       "   노선명           역명  승차총승객수\n",
       "0  2호선          신대방   26990\n",
       "1  2호선           신림   61313\n",
       "2  2호선           봉천   26070\n",
       "3  2호선  서울대입구(관악구청)   51225\n",
       "4  2호선     낙성대(강감찬)   30179"
      ]
     },
     "execution_count": 16,
     "metadata": {},
     "output_type": "execute_result"
    }
   ],
   "source": [
    "data = data.drop(columns = ['등록일자'])\n",
    "data = data.drop(columns = ['사용일자'])\n",
    "data = data.drop(columns = ['하차총승객수'])\n",
    "data.head()"
   ]
  },
  {
   "cell_type": "code",
   "execution_count": 29,
   "id": "938d09fa",
   "metadata": {
    "ExecuteTime": {
     "end_time": "2022-10-31T06:08:06.666993Z",
     "start_time": "2022-10-31T06:08:06.645606Z"
    }
   },
   "outputs": [
    {
     "ename": "TypeError",
     "evalue": "string indices must be integers",
     "output_type": "error",
     "traceback": [
      "\u001b[1;31m---------------------------------------------------------------------------\u001b[0m",
      "\u001b[1;31mTypeError\u001b[0m                                 Traceback (most recent call last)",
      "Input \u001b[1;32mIn [29]\u001b[0m, in \u001b[0;36m<cell line: 2>\u001b[1;34m()\u001b[0m\n\u001b[0;32m      1\u001b[0m pattern \u001b[38;5;241m=\u001b[39m \u001b[38;5;124m'\u001b[39m\u001b[38;5;124m\\\u001b[39m\u001b[38;5;124m([^)]*\u001b[39m\u001b[38;5;124m\\\u001b[39m\u001b[38;5;124m)\u001b[39m\u001b[38;5;124m'\u001b[39m\n\u001b[1;32m----> 2\u001b[0m data[\u001b[38;5;124m'\u001b[39m\u001b[38;5;124m역명\u001b[39m\u001b[38;5;124m'\u001b[39m] \u001b[38;5;241m=\u001b[39m re\u001b[38;5;241m.\u001b[39msub(pattern\u001b[38;5;241m=\u001b[39mpattern, repl\u001b[38;5;241m=\u001b[39m\u001b[38;5;124m'\u001b[39m\u001b[38;5;124m'\u001b[39m, string\u001b[38;5;241m=\u001b[39m\u001b[43mdata\u001b[49m\u001b[43m[\u001b[49m\u001b[38;5;124;43m'\u001b[39;49m\u001b[38;5;124;43m역명\u001b[39;49m\u001b[38;5;124;43m'\u001b[39;49m\u001b[43m]\u001b[49m)\n",
      "\u001b[1;31mTypeError\u001b[0m: string indices must be integers"
     ]
    }
   ],
   "source": [
    "def preprocessing(x):\n",
    "    pattern = '\\([^)]*\\)'\n",
    "    \n",
    "    return re.sub(pattern=pattern, repl='', string=x)"
   ]
  },
  {
   "cell_type": "code",
   "execution_count": 30,
   "id": "5c2c79b8",
   "metadata": {
    "ExecuteTime": {
     "end_time": "2022-10-31T06:11:39.193297Z",
     "start_time": "2022-10-31T06:11:39.175410Z"
    }
   },
   "outputs": [
    {
     "ename": "TypeError",
     "evalue": "string indices must be integers",
     "output_type": "error",
     "traceback": [
      "\u001b[1;31m---------------------------------------------------------------------------\u001b[0m",
      "\u001b[1;31mTypeError\u001b[0m                                 Traceback (most recent call last)",
      "Input \u001b[1;32mIn [30]\u001b[0m, in \u001b[0;36m<cell line: 1>\u001b[1;34m()\u001b[0m\n\u001b[1;32m----> 1\u001b[0m \u001b[43mdata\u001b[49m\u001b[43m[\u001b[49m\u001b[38;5;124;43m'\u001b[39;49m\u001b[38;5;124;43m역명\u001b[39;49m\u001b[38;5;124;43m'\u001b[39;49m\u001b[43m]\u001b[49m\u001b[38;5;241m.\u001b[39mapply(preprocessing)\n",
      "\u001b[1;31mTypeError\u001b[0m: string indices must be integers"
     ]
    }
   ],
   "source": [
    "data['역명'].apply(preprocessing)"
   ]
  },
  {
   "cell_type": "code",
   "execution_count": 18,
   "id": "d350832d",
   "metadata": {
    "ExecuteTime": {
     "end_time": "2022-10-31T05:59:00.245688Z",
     "start_time": "2022-10-31T05:59:00.232373Z"
    }
   },
   "outputs": [
    {
     "data": {
      "text/html": [
       "<div>\n",
       "<style scoped>\n",
       "    .dataframe tbody tr th:only-of-type {\n",
       "        vertical-align: middle;\n",
       "    }\n",
       "\n",
       "    .dataframe tbody tr th {\n",
       "        vertical-align: top;\n",
       "    }\n",
       "\n",
       "    .dataframe thead th {\n",
       "        text-align: right;\n",
       "    }\n",
       "</style>\n",
       "<table border=\"1\" class=\"dataframe\">\n",
       "  <thead>\n",
       "    <tr style=\"text-align: right;\">\n",
       "      <th></th>\n",
       "      <th>역명</th>\n",
       "      <th>승차총승객수</th>\n",
       "    </tr>\n",
       "  </thead>\n",
       "  <tbody>\n",
       "    <tr>\n",
       "      <th>0</th>\n",
       "      <td></td>\n",
       "      <td>26990</td>\n",
       "    </tr>\n",
       "    <tr>\n",
       "      <th>1</th>\n",
       "      <td></td>\n",
       "      <td>61313</td>\n",
       "    </tr>\n",
       "    <tr>\n",
       "      <th>2</th>\n",
       "      <td></td>\n",
       "      <td>26070</td>\n",
       "    </tr>\n",
       "    <tr>\n",
       "      <th>3</th>\n",
       "      <td>관악구청</td>\n",
       "      <td>51225</td>\n",
       "    </tr>\n",
       "    <tr>\n",
       "      <th>4</th>\n",
       "      <td>강감찬</td>\n",
       "      <td>30179</td>\n",
       "    </tr>\n",
       "  </tbody>\n",
       "</table>\n",
       "</div>"
      ],
      "text/plain": [
       "     역명  승차총승객수\n",
       "0         26990\n",
       "1         61313\n",
       "2         26070\n",
       "3  관악구청   51225\n",
       "4   강감찬   30179"
      ]
     },
     "execution_count": 18,
     "metadata": {},
     "output_type": "execute_result"
    }
   ],
   "source": [
    "data_station = data.drop(columns = ['노선명'])\n",
    "data_station.head()"
   ]
  },
  {
   "cell_type": "code",
   "execution_count": 19,
   "id": "8a10973e",
   "metadata": {
    "ExecuteTime": {
     "end_time": "2022-10-31T05:59:00.260757Z",
     "start_time": "2022-10-31T05:59:00.247330Z"
    }
   },
   "outputs": [
    {
     "data": {
      "text/html": [
       "<div>\n",
       "<style scoped>\n",
       "    .dataframe tbody tr th:only-of-type {\n",
       "        vertical-align: middle;\n",
       "    }\n",
       "\n",
       "    .dataframe tbody tr th {\n",
       "        vertical-align: top;\n",
       "    }\n",
       "\n",
       "    .dataframe thead th {\n",
       "        text-align: right;\n",
       "    }\n",
       "</style>\n",
       "<table border=\"1\" class=\"dataframe\">\n",
       "  <thead>\n",
       "    <tr style=\"text-align: right;\">\n",
       "      <th></th>\n",
       "      <th>승차총승객수</th>\n",
       "    </tr>\n",
       "    <tr>\n",
       "      <th>역명</th>\n",
       "      <th></th>\n",
       "    </tr>\n",
       "  </thead>\n",
       "  <tbody>\n",
       "    <tr>\n",
       "      <th>무역센터</th>\n",
       "      <td>46405.733333</td>\n",
       "    </tr>\n",
       "    <tr>\n",
       "      <th>관악구청</th>\n",
       "      <td>43764.500000</td>\n",
       "    </tr>\n",
       "    <tr>\n",
       "      <th>송파구청</th>\n",
       "      <td>41185.466667</td>\n",
       "    </tr>\n",
       "    <tr>\n",
       "      <th>서초구청</th>\n",
       "      <td>32412.800000</td>\n",
       "    </tr>\n",
       "    <tr>\n",
       "      <th>강북구청</th>\n",
       "      <td>31721.466667</td>\n",
       "    </tr>\n",
       "  </tbody>\n",
       "</table>\n",
       "</div>"
      ],
      "text/plain": [
       "            승차총승객수\n",
       "역명                \n",
       "무역센터  46405.733333\n",
       "관악구청  43764.500000\n",
       "송파구청  41185.466667\n",
       "서초구청  32412.800000\n",
       "강북구청  31721.466667"
      ]
     },
     "execution_count": 19,
     "metadata": {},
     "output_type": "execute_result"
    }
   ],
   "source": [
    "group_station = data_station.groupby('역명')\n",
    "mean_station = group_station.mean().sort_values('승차총승객수', ascending = False)\n",
    "mean_station.head()"
   ]
  },
  {
   "cell_type": "code",
   "execution_count": 20,
   "id": "6709fc24",
   "metadata": {
    "ExecuteTime": {
     "end_time": "2022-10-31T05:59:00.275851Z",
     "start_time": "2022-10-31T05:59:00.261757Z"
    }
   },
   "outputs": [
    {
     "data": {
      "text/html": [
       "<div>\n",
       "<style scoped>\n",
       "    .dataframe tbody tr th:only-of-type {\n",
       "        vertical-align: middle;\n",
       "    }\n",
       "\n",
       "    .dataframe tbody tr th {\n",
       "        vertical-align: top;\n",
       "    }\n",
       "\n",
       "    .dataframe thead th {\n",
       "        text-align: right;\n",
       "    }\n",
       "</style>\n",
       "<table border=\"1\" class=\"dataframe\">\n",
       "  <thead>\n",
       "    <tr style=\"text-align: right;\">\n",
       "      <th></th>\n",
       "      <th>노선명</th>\n",
       "      <th>승차총승객수</th>\n",
       "    </tr>\n",
       "  </thead>\n",
       "  <tbody>\n",
       "    <tr>\n",
       "      <th>0</th>\n",
       "      <td>2호선</td>\n",
       "      <td>26990</td>\n",
       "    </tr>\n",
       "    <tr>\n",
       "      <th>1</th>\n",
       "      <td>2호선</td>\n",
       "      <td>61313</td>\n",
       "    </tr>\n",
       "    <tr>\n",
       "      <th>2</th>\n",
       "      <td>2호선</td>\n",
       "      <td>26070</td>\n",
       "    </tr>\n",
       "    <tr>\n",
       "      <th>3</th>\n",
       "      <td>2호선</td>\n",
       "      <td>51225</td>\n",
       "    </tr>\n",
       "    <tr>\n",
       "      <th>4</th>\n",
       "      <td>2호선</td>\n",
       "      <td>30179</td>\n",
       "    </tr>\n",
       "  </tbody>\n",
       "</table>\n",
       "</div>"
      ],
      "text/plain": [
       "   노선명  승차총승객수\n",
       "0  2호선   26990\n",
       "1  2호선   61313\n",
       "2  2호선   26070\n",
       "3  2호선   51225\n",
       "4  2호선   30179"
      ]
     },
     "execution_count": 20,
     "metadata": {},
     "output_type": "execute_result"
    }
   ],
   "source": [
    "data_num = data.drop(columns = ['역명'])\n",
    "data_num.head()"
   ]
  },
  {
   "cell_type": "code",
   "execution_count": 21,
   "id": "9357cac2",
   "metadata": {
    "ExecuteTime": {
     "end_time": "2022-10-31T05:59:00.290737Z",
     "start_time": "2022-10-31T05:59:00.276821Z"
    }
   },
   "outputs": [
    {
     "data": {
      "text/html": [
       "<div>\n",
       "<style scoped>\n",
       "    .dataframe tbody tr th:only-of-type {\n",
       "        vertical-align: middle;\n",
       "    }\n",
       "\n",
       "    .dataframe tbody tr th {\n",
       "        vertical-align: top;\n",
       "    }\n",
       "\n",
       "    .dataframe thead th {\n",
       "        text-align: right;\n",
       "    }\n",
       "</style>\n",
       "<table border=\"1\" class=\"dataframe\">\n",
       "  <thead>\n",
       "    <tr style=\"text-align: right;\">\n",
       "      <th></th>\n",
       "      <th>승차총승객수</th>\n",
       "    </tr>\n",
       "    <tr>\n",
       "      <th>노선명</th>\n",
       "      <th></th>\n",
       "    </tr>\n",
       "  </thead>\n",
       "  <tbody>\n",
       "    <tr>\n",
       "      <th>2호선</th>\n",
       "      <td>24868.192667</td>\n",
       "    </tr>\n",
       "    <tr>\n",
       "      <th>1호선</th>\n",
       "      <td>21346.383333</td>\n",
       "    </tr>\n",
       "    <tr>\n",
       "      <th>4호선</th>\n",
       "      <td>17338.423077</td>\n",
       "    </tr>\n",
       "    <tr>\n",
       "      <th>3호선</th>\n",
       "      <td>14108.429980</td>\n",
       "    </tr>\n",
       "    <tr>\n",
       "      <th>경인선</th>\n",
       "      <td>13232.396667</td>\n",
       "    </tr>\n",
       "  </tbody>\n",
       "</table>\n",
       "</div>"
      ],
      "text/plain": [
       "           승차총승객수\n",
       "노선명              \n",
       "2호선  24868.192667\n",
       "1호선  21346.383333\n",
       "4호선  17338.423077\n",
       "3호선  14108.429980\n",
       "경인선  13232.396667"
      ]
     },
     "execution_count": 21,
     "metadata": {},
     "output_type": "execute_result"
    }
   ],
   "source": [
    "group_num = data_num.groupby('노선명')\n",
    "mean_num = group_num.mean().sort_values('승차총승객수', ascending = False)\n",
    "mean_num.head()"
   ]
  },
  {
   "cell_type": "markdown",
   "id": "4034f4ed",
   "metadata": {},
   "source": [
    "# 데이터 시각화"
   ]
  },
  {
   "cell_type": "code",
   "execution_count": 23,
   "id": "58f2b177",
   "metadata": {
    "ExecuteTime": {
     "end_time": "2022-10-31T05:59:09.711151Z",
     "start_time": "2022-10-31T05:59:09.527584Z"
    }
   },
   "outputs": [
    {
     "data": {
      "image/png": "[encoded data removed]",
      "text/plain": [
       "<Figure size 1080x360 with 2 Axes>"
      ]
     },
     "metadata": {
      "needs_background": "light"
     },
     "output_type": "display_data"
    }
   ],
   "source": [
    "fig = plt.figure(figsize = (15, 5))\n",
    "\n",
    "ax1 = fig.add_subplot(121)\n",
    "ax1.plot(mean_station.iloc[:10])\n",
    "ax1.tick_params(axis = 'x', rotation = 45)\n",
    "ax1.set_title('2022년 9월 역별 이용자수 Top.10', fontsize = 20)\n",
    "\n",
    "ax2 = fig.add_subplot(122)\n",
    "ax2.plot(mean_num.iloc[:10])\n",
    "ax2.tick_params(axis = 'x', rotation = 45)\n",
    "ax2.set_title('2022년 9월 호선별 이용자수 Top.10', fontsize = 20)\n",
    "\n",
    "plt.show()"
   ]
  },
  {
   "cell_type": "code",
   "execution_count": null,
   "id": "c5b7e323",
   "metadata": {},
   "outputs": [],
   "source": []
  }
 ],
 "metadata": {
  "hide_input": false,
  "kernelspec": {
   "display_name": "Python 3 (ipykernel)",
   "language": "python",
   "name": "python3"
  },
  "language_info": {
   "codemirror_mode": {
    "name": "ipython",
    "version": 3
   },
   "file_extension": ".py",
   "mimetype": "text/x-python",
   "name": "python",
   "nbconvert_exporter": "python",
   "pygments_lexer": "ipython3",
   "version": "3.8.8"
  },
  "toc": {
   "base_numbering": 1,
   "nav_menu": {},
   "number_sections": true,
   "sideBar": true,
   "skip_h1_title": false,
   "title_cell": "Table of Contents",
   "title_sidebar": "Contents",
   "toc_cell": false,
   "toc_position": {},
   "toc_section_display": true,
   "toc_window_display": false
  },
  "varInspector": {
   "cols": {
    "lenName": 16,
    "lenType": 16,
    "lenVar": 40
   },
   "kernels_config": {
    "python": {
     "delete_cmd_postfix": "",
     "delete_cmd_prefix": "del ",
     "library": "var_list.py",
     "varRefreshCmd": "print(var_dic_list())"
    },
    "r": {
     "delete_cmd_postfix": ") ",
     "delete_cmd_prefix": "rm(",
     "library": "var_list.r",
     "varRefreshCmd": "cat(var_dic_list()) "
    }
   },
   "types_to_exclude": [
    "module",
    "function",
    "builtin_function_or_method",
    "instance",
    "_Feature"
   ],
   "window_display": false
  }
 },
 "nbformat": 4,
 "nbformat_minor": 5
}
